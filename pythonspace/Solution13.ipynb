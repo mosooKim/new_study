{
 "cells": [
  {
   "cell_type": "code",
   "execution_count": 7,
   "metadata": {},
   "outputs": [
    {
     "name": "stdout",
     "output_type": "stream",
     "text": [
      "P HP HP HP PP HP PH HP PH PH H\n"
     ]
    }
   ],
   "source": [
    "# 프로그래머스 - 카펫\n",
    "def solution(brown, yellow):\n",
    "    b = int(brown / 2) + 2\n",
    "    \n",
    "    return_list = []\n",
    "    for i in range(3, b):\n",
    "        return_list.append([i, b-i])\n",
    "        \n",
    "    answer = []\n",
    "    for j in return_list:\n",
    "        if (j[0] - 2) * (j[1] - 2) == yellow:\n",
    "            answer.append(j)\n",
    "            \n",
    "    answer.sort(reverse = True)\n",
    "     \n",
    "    return answer[0]"
   ]
  }
 ],
 "metadata": {
  "kernelspec": {
   "display_name": "sanghwaJ",
   "language": "python",
   "name": "conda"
  },
  "language_info": {
   "codemirror_mode": {
    "name": "ipython",
    "version": 3
   },
   "file_extension": ".py",
   "mimetype": "text/x-python",
   "name": "python",
   "nbconvert_exporter": "python",
   "pygments_lexer": "ipython3",
   "version": "3.9.7"
  },
  "orig_nbformat": 4
 },
 "nbformat": 4,
 "nbformat_minor": 2
}
