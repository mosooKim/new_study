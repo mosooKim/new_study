{
 "cells": [
  {
   "cell_type": "code",
   "execution_count": 2,
   "metadata": {},
   "outputs": [
    {
     "name": "stdout",
     "output_type": "stream",
     "text": [
      "132\n"
     ]
    },
    {
     "data": {
      "text/plain": [
       "\"\\nif N > M:\\n    print('normal')\\nelse:\\n    pass\\n\""
      ]
     },
     "execution_count": 2,
     "metadata": {},
     "output_type": "execute_result"
    }
   ],
   "source": [
    "# Softeer - 비밀메뉴2\n",
    "\n",
    "import sys\n",
    "# input = sys.stdin.readline\n",
    "\n",
    "N, M, K = map(int, input().split())\n",
    "_secret = input().split()\n",
    "secret = ''\n",
    "for _ in _secret:\n",
    "    secret += _\n",
    "_con = input().split()\n",
    "con = ''\n",
    "for _ in _con:\n",
    "    con += _\n",
    "\n",
    "if secret in con:\n",
    "    print(len(secret))\n",
    "else:\n",
    "    secret_list = []\n",
    "    for i in range(len(secret)):\n",
    "        for j in range(1, len(secret)+1):\n",
    "            if len(secret[i:j]) > 0:\n",
    "                secret_list.append(secret[i:j])\n",
    "    \n",
    "    answer = 0\n",
    "    for secret in secret_list:\n",
    "        if secret in con:\n",
    "            answer = max(answer, len(secret))\n",
    "            \n",
    "    print(answer)\n",
    "\n",
    "    "
   ]
  }
 ],
 "metadata": {
  "kernelspec": {
   "display_name": "sanghwaJ",
   "language": "python",
   "name": "conda"
  },
  "language_info": {
   "codemirror_mode": {
    "name": "ipython",
    "version": 3
   },
   "file_extension": ".py",
   "mimetype": "text/x-python",
   "name": "python",
   "nbconvert_exporter": "python",
   "pygments_lexer": "ipython3",
   "version": "3.9.7"
  },
  "orig_nbformat": 4
 },
 "nbformat": 4,
 "nbformat_minor": 2
}
