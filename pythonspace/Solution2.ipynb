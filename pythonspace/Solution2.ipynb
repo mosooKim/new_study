{
 "cells": [
  {
   "cell_type": "code",
   "execution_count": 4,
   "metadata": {},
   "outputs": [
    {
     "data": {
      "text/plain": [
       "1300"
      ]
     },
     "execution_count": 4,
     "metadata": {},
     "output_type": "execute_result"
    }
   ],
   "source": [
    "# BOJ - 2480 주사위 세개\n",
    "\n",
    "dices = sorted(list(map(int, input().split())))\n",
    "\n",
    "def solution(dices):\n",
    "    if len(set(dices)) == 1:\n",
    "        return 10000 + dices[0] * 1000\n",
    "    elif len(set(dices)) == 2:\n",
    "        return 1000 + dices[1] * 100\n",
    "    else:\n",
    "        return max(dices) * 100\n",
    "\n",
    "solution(dices)"
   ]
  }
 ],
 "metadata": {
  "interpreter": {
   "hash": "cfb76531505aabe42c2077774403c27c7372c4c4e4cd75c9e3e71afdfb4741b7"
  },
  "kernelspec": {
   "display_name": "sanghwaJ",
   "language": "python",
   "name": "conda"
  },
  "language_info": {
   "codemirror_mode": {
    "name": "ipython",
    "version": 3
   },
   "file_extension": ".py",
   "mimetype": "text/x-python",
   "name": "python",
   "nbconvert_exporter": "python",
   "pygments_lexer": "ipython3",
   "version": "3.9.7"
  },
  "orig_nbformat": 4
 },
 "nbformat": 4,
 "nbformat_minor": 2
}
