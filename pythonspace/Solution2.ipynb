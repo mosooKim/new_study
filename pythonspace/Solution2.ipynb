{
 "cells": [
  {
   "cell_type": "code",
   "execution_count": 2,
   "metadata": {},
   "outputs": [
    {
     "data": {
      "text/plain": [
       "12000"
      ]
     },
     "execution_count": 2,
     "metadata": {},
     "output_type": "execute_result"
    }
   ],
   "source": [
    "# BOJ - 2480 주사위 세개\n",
    "\n",
    "dices = sorted(list(map(int, input().split())))\n",
    "\n",
    "def solution(dices):\n",
    "    if len(set(dices)) == 1:\n",
    "        return 10000 + dices[0] * 1000\n",
    "    elif len(set(dices)) == 2:\n",
    "        return 1000 + dices[1] * 100\n",
    "    else:\n",
    "        return max(dices) * 100\n",
    "\n",
    "solution(dices)"
   ]
  }
 ],
 "metadata": {
  "kernelspec": {
   "display_name": "Python 3.9.13 64-bit",
   "language": "python",
   "name": "python3"
  },
  "language_info": {
   "codemirror_mode": {
    "name": "ipython",
    "version": 3
   },
   "file_extension": ".py",
   "mimetype": "text/x-python",
   "name": "python",
   "nbconvert_exporter": "python",
   "pygments_lexer": "ipython3",
   "version": "3.9.13"
  },
  "orig_nbformat": 4,
  "vscode": {
   "interpreter": {
    "hash": "b0fa6594d8f4cbf19f97940f81e996739fb7646882a419484c72d19e05852a7e"
   }
  }
 },
 "nbformat": 4,
 "nbformat_minor": 2
}
