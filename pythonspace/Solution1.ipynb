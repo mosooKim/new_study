{
 "cells": [
  {
   "cell_type": "code",
   "execution_count": 2,
   "metadata": {},
   "outputs": [
    {
     "data": {
      "text/plain": [
       "True"
      ]
     },
     "execution_count": 2,
     "metadata": {},
     "output_type": "execute_result"
    }
   ],
   "source": [
    "# 프로그래머스 - 전화번호 목록\n",
    "def solution(phone_book):\n",
    "    phone_book = sorted(phone_book)\n",
    "\n",
    "    answer = True\n",
    "    for p1, p2 in zip(phone_book, phone_book[1:]):\n",
    "        if p2.startswith(p1):\n",
    "            return False\n",
    "    \n",
    "    return answer\n",
    "\n",
    "#phone_book = [\"119\", \"97674223\", \"1195524421\"]\n",
    "phone_book = [\"123\",\"456\",\"789\"]\n",
    "#phone_book = [\"12\",\"123\",\"1235\",\"567\",\"88\"]\n",
    "\n",
    "solution(phone_book)"
   ]
  }
 ],
 "metadata": {
  "interpreter": {
   "hash": "cfb76531505aabe42c2077774403c27c7372c4c4e4cd75c9e3e71afdfb4741b7"
  },
  "kernelspec": {
   "display_name": "sanghwaJ",
   "language": "python",
   "name": "conda"
  },
  "language_info": {
   "codemirror_mode": {
    "name": "ipython",
    "version": 3
   },
   "file_extension": ".py",
   "mimetype": "text/x-python",
   "name": "python",
   "nbconvert_exporter": "python",
   "pygments_lexer": "ipython3",
   "version": "3.9.7"
  },
  "orig_nbformat": 4
 },
 "nbformat": 4,
 "nbformat_minor": 2
}
